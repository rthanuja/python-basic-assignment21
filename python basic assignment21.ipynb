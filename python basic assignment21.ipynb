{
 "cells": [
  {
   "cell_type": "code",
   "execution_count": 1,
   "id": "5fb790d7",
   "metadata": {},
   "outputs": [],
   "source": [
    "#1. Add the current date to the text file today.txt as a string.\n",
    "from datetime import date\n",
    "f=open(\"today.txt\",'w+')\n",
    "f.write(\"{}\".format(date.today()))\n",
    "f.close()"
   ]
  },
  {
   "cell_type": "code",
   "execution_count": 2,
   "id": "44442c89",
   "metadata": {},
   "outputs": [],
   "source": [
    "#2. Read the text file today.txt into the string today_string\n",
    "f=open(\"today.txt\",'r')\n",
    "today_string=f.read()\n",
    "f.close()"
   ]
  },
  {
   "cell_type": "code",
   "execution_count": 3,
   "id": "03764dc2",
   "metadata": {},
   "outputs": [
    {
     "data": {
      "text/plain": [
       "datetime.datetime(2023, 5, 29, 0, 0)"
      ]
     },
     "execution_count": 3,
     "metadata": {},
     "output_type": "execute_result"
    }
   ],
   "source": [
    "#3. Parse the date from today_string.\n",
    "from datetime import datetime\n",
    "parsedata=datetime.strptime(today_string,'%Y-%m-%d')\n",
    "parsedata"
   ]
  },
  {
   "cell_type": "code",
   "execution_count": 4,
   "id": "b8d3ab45",
   "metadata": {},
   "outputs": [
    {
     "data": {
      "text/plain": [
       "['.ipynb_checkpoints',\n",
       " 'asign.txt',\n",
       " 'books.csv',\n",
       " 'books.db',\n",
       " 'file1',\n",
       " 'python advance assignment1.ipynb',\n",
       " 'python advance assignment10.ipynb',\n",
       " 'python advance assignment11.ipynb',\n",
       " 'python advance assignment12.ipynb',\n",
       " 'python advance assignment13.ipynb',\n",
       " 'python advance assignment14.ipynb',\n",
       " 'python advance assignment15.ipynb',\n",
       " 'python advance assignment2.ipynb',\n",
       " 'python advance assignment3.ipynb',\n",
       " 'python advance assignment4.ipynb',\n",
       " 'python advance assignment5.ipynb',\n",
       " 'python advance assignment6.ipynb',\n",
       " 'python advance assignment7.ipynb',\n",
       " 'python advance assignment8.ipynb',\n",
       " 'python advance assignment9.ipynb',\n",
       " 'python advance programming assignment1.ipynb',\n",
       " 'python advance programming assignment10.ipynb',\n",
       " 'python advance programming assignment11.ipynb',\n",
       " 'python advance programming assignment12.ipynb',\n",
       " 'python advance programming assignment13.ipynb',\n",
       " 'python advance programming assignment14.ipynb',\n",
       " 'python advance programming assignment15.ipynb',\n",
       " 'python advance programming assignment16.ipynb',\n",
       " 'python advance programming assignment17.ipynb',\n",
       " 'python advance programming assignment18.ipynb',\n",
       " 'python advance programming assignment19.ipynb',\n",
       " 'python advance programming assignment2.ipynb',\n",
       " 'python advance programming assignment20.ipynb',\n",
       " 'python advance programming assignment21.ipynb',\n",
       " 'python advance programming assignment22.ipynb',\n",
       " 'python advance programming assignment23.ipynb',\n",
       " 'python advance programming assignment24.ipynb',\n",
       " 'python advance programming assignment25.ipynb',\n",
       " 'python advance programming assignment3.ipynb',\n",
       " 'python advance programming assignment4.ipynb',\n",
       " 'python advance programming assignment5.ipynb',\n",
       " 'python advance programming assignment6.ipynb',\n",
       " 'python advance programming assignment7.ipynb',\n",
       " 'python advance programming assignment8.ipynb',\n",
       " 'python advance programming assignment9.ipynb',\n",
       " 'python basic assignment1.ipynb',\n",
       " 'python basic assignment10.ipynb',\n",
       " 'python basic assignment11.ipynb',\n",
       " 'python basic assignment12.ipynb',\n",
       " 'python basic assignment13.ipynb',\n",
       " 'python basic assignment15.ipynb',\n",
       " 'python basic assignment16.ipynb',\n",
       " 'python basic assignment17.ipynb',\n",
       " 'python basic assignment18.ipynb',\n",
       " 'python basic assignment19.ipynb',\n",
       " 'python basic assignment2.ipynb',\n",
       " 'python basic assignment20.ipynb',\n",
       " 'python basic assignment21.ipynb',\n",
       " 'python basic assignment22.ipynb',\n",
       " 'python basic assignment23.ipynb',\n",
       " 'python basic assignment24.ipynb',\n",
       " 'python basic assignment3.ipynb',\n",
       " 'python basic assignment4.ipynb',\n",
       " 'python basic assignment5.ipynb',\n",
       " 'python basic assignment6.ipynb',\n",
       " 'python basic assignment7.ipynb',\n",
       " 'python basic assignment8.ipynb',\n",
       " 'python basic assignment9.ipynb',\n",
       " 'python programming basic assignment1.ipynb',\n",
       " 'python programming basic assignment10.ipynb',\n",
       " 'python programming basic assignment11.ipynb',\n",
       " 'python programming basic assignment12.ipynb',\n",
       " 'python programming basic assignment13.ipynb',\n",
       " 'python programming basic assignment14.ipynb',\n",
       " 'python programming basic assignment15.ipynb',\n",
       " 'python programming basic assignment16.ipynb',\n",
       " 'python programming basic assignment17.ipynb',\n",
       " 'python programming basic assignment18.ipynb',\n",
       " 'python programming basic assignment19.ipynb',\n",
       " 'python programming basic assignment2.ipynb',\n",
       " 'python programming basic assignment20.ipynb',\n",
       " 'python programming basic assignment21.ipynb',\n",
       " 'python programming basic assignment22.ipynb',\n",
       " 'python programming basic assignment23.ipynb',\n",
       " 'python programming basic assignment24.ipynb',\n",
       " 'python programming basic assignment25.ipynb',\n",
       " 'python programming basic assignment3.ipynb',\n",
       " 'python programming basic assignment4.ipynb',\n",
       " 'python programming basic assignment5.ipynb',\n",
       " 'python programming basic assignment6.ipynb',\n",
       " 'python programming basic assignment7.ipynb',\n",
       " 'python programming basic assignment8.ipynb',\n",
       " 'python programming basic assignment9.ipynb',\n",
       " 'restyled.docx',\n",
       " 'test.txt',\n",
       " 'today.txt',\n",
       " 'Untitled.ipynb',\n",
       " 'Untitled1.ipynb',\n",
       " 'Untitled2.ipynb',\n",
       " 'Untitled3.ipynb',\n",
       " 'zoo.py',\n",
       " '__pycache__']"
      ]
     },
     "execution_count": 4,
     "metadata": {},
     "output_type": "execute_result"
    }
   ],
   "source": [
    "#4. List the files in your current directory\n",
    "import os\n",
    "os.listdir()"
   ]
  },
  {
   "cell_type": "code",
   "execution_count": 5,
   "id": "58b246c0",
   "metadata": {},
   "outputs": [
    {
     "data": {
      "text/plain": [
       "['.ipynb_checkpoints',\n",
       " 'asign-Copy1.txt',\n",
       " 'assignments',\n",
       " 'books-Copy1.csv',\n",
       " 'books-Copy1.db',\n",
       " 'desktop.ini',\n",
       " 'file1-Copy1',\n",
       " 'python assignemnts',\n",
       " 'restyled-Copy1.docx',\n",
       " 'test-Copy1.txt']"
      ]
     },
     "execution_count": 5,
     "metadata": {},
     "output_type": "execute_result"
    }
   ],
   "source": [
    "#5. Create a list of all of the files in your parent directory (minimum five files should be available).\n",
    "import os\n",
    "os.listdir('..')"
   ]
  },
  {
   "cell_type": "code",
   "execution_count": 6,
   "id": "7b69e5e3",
   "metadata": {},
   "outputs": [],
   "source": [
    "#6. Use multiprocessing to create three separate processes. Make each one wait a random number of\n",
    "#seconds between one and five, print the current time, and then exit.\n",
    "import multiprocessing, random, time\n",
    "from datetime import datetime as dt\n",
    "def function1():\n",
    "    print(\"function1 start time is: \",dt.now().strftime('%H:%M:%S'))\n",
    "    time.sleep(random.randint(1,5))\n",
    "    print(\"after waiting \",dt.now().strftime('%H:%M:%S'))\n",
    "def function2():\n",
    "    print(\"function2 start time is: \",dt.now().strftime('%H:%M:%S'))\n",
    "    time.sleep(random.randint(1,5))\n",
    "    print(\"after waiting \",dt.now().strftime('%H:%M:%S'))\n",
    "      \n",
    "def function3():\n",
    "    print(\"function3 start time is: \",dt.now().strftime('%H:%M:%S'))\n",
    "    time.sleep(random.randint(1,5))\n",
    "    print(\"after waiting \",dt.now().strftime('%H:%M:%S'))\n",
    "    \n",
    "if __name__ == \"__main__\":\n",
    "    \n",
    "    p1 = multiprocessing.Process(target=function1)\n",
    "    p2 = multiprocessing.Process(target=function2)\n",
    "    p3 = multiprocessing.Process(target=function3)\n",
    "    \n",
    "    p1.start()\n",
    "    p2.start()\n",
    "    p3.start()\n",
    "    \n",
    "    p1.join()\n",
    "    p2.join()\n",
    "    p3.join()\n"
   ]
  },
  {
   "cell_type": "code",
   "execution_count": 7,
   "id": "19d58e19",
   "metadata": {},
   "outputs": [],
   "source": [
    "#7. Create a date object of your day of birth.\n",
    "from datetime import datetime\n",
    "date=datetime(1996,11,10)\n"
   ]
  },
  {
   "cell_type": "code",
   "execution_count": 8,
   "id": "578c92f7",
   "metadata": {},
   "outputs": [
    {
     "data": {
      "text/plain": [
       "'Sunday'"
      ]
     },
     "execution_count": 8,
     "metadata": {},
     "output_type": "execute_result"
    }
   ],
   "source": [
    "#8. What day of the week was your day of birth?\n",
    "days = [\"Monday\", \"Tuesday\", \"Wednesday\",\n",
    "        \"Thursday\", \"Friday\", \"Saturday\", \"Sunday\"]\n",
    "days[date.weekday()]"
   ]
  },
  {
   "cell_type": "code",
   "execution_count": 9,
   "id": "5104fca5",
   "metadata": {},
   "outputs": [
    {
     "data": {
      "text/plain": [
       "datetime.datetime(2024, 3, 28, 0, 0)"
      ]
     },
     "execution_count": 9,
     "metadata": {},
     "output_type": "execute_result"
    }
   ],
   "source": [
    "#9. When will you be (or when were you) 10,000 days old?\n",
    "from datetime import timedelta\n",
    "date+timedelta(days=10000)\n"
   ]
  },
  {
   "cell_type": "code",
   "execution_count": null,
   "id": "24e1f27f",
   "metadata": {},
   "outputs": [],
   "source": []
  }
 ],
 "metadata": {
  "kernelspec": {
   "display_name": "Python 3 (ipykernel)",
   "language": "python",
   "name": "python3"
  },
  "language_info": {
   "codemirror_mode": {
    "name": "ipython",
    "version": 3
   },
   "file_extension": ".py",
   "mimetype": "text/x-python",
   "name": "python",
   "nbconvert_exporter": "python",
   "pygments_lexer": "ipython3",
   "version": "3.10.9"
  }
 },
 "nbformat": 4,
 "nbformat_minor": 5
}
